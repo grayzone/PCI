{
 "cells": [
  {
   "cell_type": "code",
   "execution_count": null,
   "metadata": {
    "collapsed": true
   },
   "outputs": [],
   "source": [
    "dorms=['Zeus','Athena','Hercules','Bacchus','Pluto']\n",
    "\n",
    "prefs=[('Toby', ('Bacchus', 'Hercules')),\n",
    "('Steve', ('Zeus', 'Pluto')),\n",
    "('Andrea', ('Athena', 'Zeus')),\n",
    "('Sarah', ('Zeus', 'Pluto')),\n",
    "('Dave', ('Athena', 'Bacchus')),\n",
    "('Jeff', ('Hercules', 'Pluto')),\n",
    "('Fred', ('Pluto', 'Athena')),\n",
    "('Suzie', ('Bacchus', 'Hercules')),\n",
    "('Laura', ('Bacchus', 'Hercules')),\n",
    "('Neil', ('Hercules', 'Athena'))]\n",
    "\n",
    "def printsolution(vec):\n",
    "    slots=[]\n",
    "    # Create two slots for each dorm\n",
    "    for i in range(len(dorms)): \n",
    "        slots+=[i,i]\n",
    "    # Loop over each students assignment\n",
    "    for i in range(len(vec)):\n",
    "        x=int(vec[i])\n",
    "        # Choose the slot from the remaining ones\n",
    "        dorm=dorms[slots[x]]\n",
    "        # Show the student and assigned dorm\n",
    "        print prefs[i][0],dorm\n",
    "        # Remove this slot\n",
    "        del slots[x]\n",
    "        \n",
    "def dormcost(vec):\n",
    "    cost=0\n",
    "    # Create list a of slots\n",
    "    slots=[0,0,1,1,2,2,3,3,4,4]\n",
    "    # Loop over each student\n",
    "    for i in range(len(vec)):\n",
    "        x=int(vec[i])\n",
    "        dorm=dorms[slots[x]]\n",
    "        pref=prefs[i][1]\n",
    "        # First choice costs 0, second choice costs 1\n",
    "        if pref[0]==dorm: cost+=0\n",
    "        elif pref[1]==dorm: cost+=1\n",
    "        else: cost+=3\n",
    "        # Not on the list costs 3\n",
    "        # Remove selected slot\n",
    "        del slots[x]\n",
    "    return cost\n",
    "\n",
    "printsolution([0,0,0,0,0,0,0,0,0,0])"
   ]
  },
  {
   "cell_type": "code",
   "execution_count": null,
   "metadata": {
    "collapsed": true
   },
   "outputs": [],
   "source": []
  },
  {
   "cell_type": "code",
   "execution_count": null,
   "metadata": {
    "collapsed": true
   },
   "outputs": [],
   "source": []
  }
 ],
 "metadata": {
  "kernelspec": {
   "display_name": "Python 2",
   "language": "python",
   "name": "python2"
  },
  "language_info": {
   "codemirror_mode": {
    "name": "ipython",
    "version": 2
   },
   "file_extension": ".py",
   "mimetype": "text/x-python",
   "name": "python",
   "nbconvert_exporter": "python",
   "pygments_lexer": "ipython2",
   "version": "2.7.8"
  }
 },
 "nbformat": 4,
 "nbformat_minor": 0
}
